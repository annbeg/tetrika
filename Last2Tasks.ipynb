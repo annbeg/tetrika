{
 "cells": [
  {
   "cell_type": "code",
   "execution_count": 7,
   "metadata": {},
   "outputs": [],
   "source": [
    "from bs4 import BeautifulSoup\n",
    "import requests"
   ]
  },
  {
   "cell_type": "markdown",
   "metadata": {},
   "source": [
    "## Task 2"
   ]
  },
  {
   "cell_type": "code",
   "execution_count": 52,
   "metadata": {},
   "outputs": [
    {
     "name": "stdout",
     "output_type": "stream",
     "text": [
      "Б: 200\n",
      "В: 200\n",
      "Г: 200\n",
      "Д: 200\n",
      "Е: 102\n",
      "Е: 102\n",
      "Ж: 200\n",
      "З: 200\n",
      "И: 200\n",
      "Й: 3\n",
      "К: 200\n",
      "Л: 200\n",
      "М: 200\n",
      "Н: 200\n",
      "О: 200\n",
      "П: 200\n",
      "Р: 200\n",
      "С: 200\n",
      "Т: 200\n",
      "У: 200\n",
      "Ф: 171\n",
      "Х: 200\n",
      "Ц: 200\n",
      "Ч: 200\n",
      "Ш: 200\n",
      "Щ: 141\n",
      "Э: 195\n",
      "Ю: 124\n",
      "Я: 194\n"
     ]
    }
   ],
   "source": [
    "response = requests.request(\"GET\", 'https://ru.wikipedia.org/w/index.php?title=Категория:Животные_по_алфавиту&from=А')\n",
    "soup = BeautifulSoup(response.text, 'html.parser')\n",
    "allLinksAs = soup.findAll('span', style=\"white-space:nowrap\")[0].findAll('a', class_ = 'external text')\n",
    "letter = soup.findAll('div', class_='mw-category-group')[0].find('h3').text\n",
    "countOfAnimals = len(soup.findAll('div', class_='mw-category-group')[0].find('ul').findAll('li'))\n",
    "\n",
    "listOfCounts = [(letter, countOfAnimals)]\n",
    "print(f'{letter}: {countOfAnimals}')\n",
    "\n",
    "for i in range(1, len(allLinksAs)):\n",
    "    link = allLinksAs[i]['href']\n",
    "    response = requests.request(\"GET\", link)\n",
    "    soup = BeautifulSoup(response.text, 'html.parser')\n",
    "    letter = soup.findAll('div', class_='mw-category-group')[0].find('h3').text\n",
    "    countOfAnimals = len(soup.findAll('div', class_='mw-category-group')[0].find('ul').findAll('li'))\n",
    "    listOfCounts.append((letter, countOfAnimals))\n",
    "    print(f'{letter}: {countOfAnimals}')"
   ]
  },
  {
   "cell_type": "markdown",
   "metadata": {},
   "source": [
    "## Task 3"
   ]
  },
  {
   "cell_type": "code",
   "execution_count": null,
   "metadata": {},
   "outputs": [],
   "source": [
    "def appearance(intervals):\n",
    "    lesson = intervals['lesson']\n",
    "    pupil = intervals['pupil']\n",
    "    tutor = intervals['tutor']\n",
    "    \n",
    "    indicesMinPupil = [i for i,v in enumerate(pupil) if v < lesson[0]]\n",
    "    indicesMinTutor = [i for i,v in enumerate(tutor) if v < lesson[0]]\n",
    "    indicesMaxPupil = [i for i,v in enumerate(pupil) if v > lesson[-1]]\n",
    "    indicesMaxTutor = [i for i,v in enumerate(tutor) if v > lesson[-1]]\n",
    "    \n",
    "    for i in indicesMaxPupil:\n",
    "        pupil[i] = lesson[-1]\n",
    "    for i in indicesMaxTutor:\n",
    "        tutor[i] = lesson[-1]\n",
    "\n",
    "    for i in indicesMinPupil:\n",
    "        pupil[i] = lesson[0]\n",
    "    for i in indicesMinTutor:\n",
    "        tutor[i] = lesson[0]\n",
    "    \n",
    "    tutorTuples = []\n",
    "    for i in range(int(len(tutor)/2)):\n",
    "        tutorTuples.append([tutor[i*2],tutor[i*2 + 1]])\n",
    "    \n",
    "    pupilTuples = []\n",
    "    for i in range(int(len(pupil)/2)):\n",
    "        pupilTuples.append([pupil[i*2],pupil[i*2 + 1]])\n",
    "        \n",
    "    tutorTuples = sorted(tutorTuples)\n",
    "    pupilTuples = sorted(pupilTuples)\n",
    "    \n",
    "    newTutorTuples = []\n",
    "    for tupl in tutorTuples:\n",
    "        if tupl[1]-tupl[0] > 0:\n",
    "            if not bool(newTutorTuples):\n",
    "                newTutorTuples.append(tupl)\n",
    "            else:\n",
    "                if newTutorTuples[-1][1] >= tupl[0]:\n",
    "                    if tupl[1] >= newTutorTuples[-1][1]:\n",
    "                        newTutorTuples[-1][1] = tupl[1]\n",
    "                else:\n",
    "                    newTutorTuples.append(tupl)\n",
    "                    \n",
    "    newPupilTuples = []\n",
    "    for tupl in pupilTuples:\n",
    "        if tupl[1]-tupl[0] > 0:\n",
    "            if not bool(newPupilTuples):\n",
    "                newPupilTuples.append(tupl)\n",
    "            else:\n",
    "                if newPupilTuples[-1][1] >= tupl[0]:\n",
    "                    if tupl[1] >= newPupilTuples[-1][1]:\n",
    "                        newPupilTuples[-1][1] = tupl[1]\n",
    "                else:\n",
    "                    newPupilTuples.append(tupl)\n",
    "                    \n",
    "    pupilTuples = newPupilTuples\n",
    "    tutorTuples = newTutorTuples\n",
    "    \n",
    "    total = 0\n",
    "    currentTuple = 'tutor'\n",
    "    while bool(pupilTuples) & bool(tutorTuples):\n",
    "        if currentTuple == 'pupil':\n",
    "            if tutorTuples[0][0] > pupilTuples[0][1]:\n",
    "                pupilTuples = pupilTuples[1:]\n",
    "                currentTuple = 'tutor'\n",
    "            elif tutorTuples[0][1] > pupilTuples[0][1]:\n",
    "                total += pupilTuples[0][1] - tutorTuples[0][0]\n",
    "                pupilTuples = pupilTuples[1:]\n",
    "                currentTuple = 'tutor'\n",
    "            else:\n",
    "                total += tutorTuples[0][1] - tutorTuples[0][0]\n",
    "                tutorTuples = tutorTuples[1:]\n",
    "\n",
    "        else:\n",
    "            if pupilTuples[0][0] > tutorTuples[0][1]:\n",
    "                tutorTuples = tutorTuples[1:]\n",
    "                currentTuple = 'pupil'\n",
    "            elif tutorTuples[0][1] < pupilTuples[0][1]:\n",
    "                total += tutorTuples[0][1] - pupilTuples[0][0]\n",
    "                tutorTuples = tutorTuples[1:]\n",
    "                currentTuple = 'pupil'\n",
    "            else:\n",
    "                total += pupilTuples[0][1] - pupilTuples[0][0]\n",
    "                pupilTuples = pupilTuples[1:]\n",
    "    \n",
    "    return total"
   ]
  },
  {
   "cell_type": "code",
   "execution_count": 208,
   "metadata": {},
   "outputs": [],
   "source": [
    "tests = [\n",
    "   {'data': {'lesson': [1594663200, 1594666800],\n",
    "             'pupil': [1594663340, 1594663389, 1594663390, 1594663395, 1594663396, 1594666472],\n",
    "             'tutor': [1594663290, 1594663430, 1594663443, 1594666473]},\n",
    "    'answer': 3117\n",
    "    },\n",
    "   {'data': {'lesson': [1594702800, 1594706400],\n",
    "             'pupil': [1594702789, 1594704500, 1594702807, 1594704542, 1594704512, 1594704513, 1594704564, 1594705150, 1594704581, 1594704582, 1594704734, 1594705009, 1594705095, 1594705096, 1594705106, 1594706480, 1594705158, 1594705773, 1594705849, 1594706480, 1594706500, 1594706875, 1594706502, 1594706503, 1594706524, 1594706524, 1594706579, 1594706641],\n",
    "             'tutor': [1594700035, 1594700364, 1594702749, 1594705148, 1594705149, 1594706463]},\n",
    "    'answer': 3577\n",
    "    },\n",
    "   {'data': {'lesson': [1594692000, 1594695600],\n",
    "             'pupil': [1594692033, 1594696347],\n",
    "             'tutor': [1594692017, 1594692066, 1594692068, 1594696341]},\n",
    "    'answer': 3565\n",
    "    },\n",
    "]\n"
   ]
  },
  {
   "cell_type": "code",
   "execution_count": 395,
   "metadata": {},
   "outputs": [],
   "source": [
    "lesson = tests[2]['data']['lesson']\n",
    "pupil = tests[2]['data']['pupil']\n",
    "tutor = tests[2]['data']['tutor']\n",
    "answer = tests[2]['answer']"
   ]
  },
  {
   "cell_type": "code",
   "execution_count": 396,
   "metadata": {},
   "outputs": [],
   "source": [
    "indicesMinPupil = [i for i,v in enumerate(pupil) if v < lesson[0]]\n",
    "indicesMinTutor = [i for i,v in enumerate(tutor) if v < lesson[0]]\n",
    "indicesMaxPupil = [i for i,v in enumerate(pupil) if v > lesson[-1]]\n",
    "indicesMaxTutor = [i for i,v in enumerate(tutor) if v > lesson[-1]]"
   ]
  },
  {
   "cell_type": "code",
   "execution_count": 397,
   "metadata": {},
   "outputs": [],
   "source": [
    "for i in indicesMaxPupil:\n",
    "    pupil[i] = lesson[-1]\n",
    "for i in indicesMaxTutor:\n",
    "    tutor[i] = lesson[-1]\n",
    "\n",
    "for i in indicesMinPupil:\n",
    "    pupil[i] = lesson[0]\n",
    "for i in indicesMinTutor:\n",
    "    tutor[i] = lesson[0]"
   ]
  },
  {
   "cell_type": "code",
   "execution_count": 398,
   "metadata": {},
   "outputs": [],
   "source": [
    "tutorTuples = []\n",
    "for i in range(int(len(tutor)/2)):\n",
    "    tutorTuples.append([tutor[i*2],tutor[i*2 + 1]])"
   ]
  },
  {
   "cell_type": "code",
   "execution_count": 399,
   "metadata": {},
   "outputs": [],
   "source": [
    "pupilTuples = []\n",
    "for i in range(int(len(pupil)/2)):\n",
    "    pupilTuples.append([pupil[i*2],pupil[i*2 + 1]])"
   ]
  },
  {
   "cell_type": "code",
   "execution_count": 400,
   "metadata": {},
   "outputs": [],
   "source": [
    "tutorTuples = sorted(tutorTuples)\n",
    "pupilTuples = sorted(pupilTuples)"
   ]
  },
  {
   "cell_type": "code",
   "execution_count": 401,
   "metadata": {},
   "outputs": [
    {
     "data": {
      "text/plain": [
       "[[1594692017, 1594692066], [1594692068, 1594695600]]"
      ]
     },
     "execution_count": 401,
     "metadata": {},
     "output_type": "execute_result"
    }
   ],
   "source": [
    "newTutorTuples = []\n",
    "for tupl in tutorTuples:\n",
    "    if tupl[1]-tupl[0] > 0:\n",
    "        if not bool(newTutorTuples):\n",
    "            newTutorTuples.append(tupl)\n",
    "        else:\n",
    "            if newTutorTuples[-1][1] >= tupl[0]:\n",
    "                if tupl[1] >= newTutorTuples[-1][1]:\n",
    "                    newTutorTuples[-1][1] = tupl[1]\n",
    "            else:\n",
    "                newTutorTuples.append(tupl)\n",
    "newTutorTuples"
   ]
  },
  {
   "cell_type": "code",
   "execution_count": 402,
   "metadata": {},
   "outputs": [
    {
     "data": {
      "text/plain": [
       "[[1594692033, 1594695600]]"
      ]
     },
     "execution_count": 402,
     "metadata": {},
     "output_type": "execute_result"
    }
   ],
   "source": [
    "newPupilTuples = []\n",
    "for tupl in pupilTuples:\n",
    "    if tupl[1]-tupl[0] > 0:\n",
    "        if not bool(newPupilTuples):\n",
    "            newPupilTuples.append(tupl)\n",
    "        else:\n",
    "            if newPupilTuples[-1][1] >= tupl[0]:\n",
    "                if tupl[1] >= newPupilTuples[-1][1]:\n",
    "                    newPupilTuples[-1][1] = tupl[1]\n",
    "            else:\n",
    "                newPupilTuples.append(tupl)\n",
    "newPupilTuples"
   ]
  },
  {
   "cell_type": "code",
   "execution_count": 403,
   "metadata": {},
   "outputs": [],
   "source": [
    "pupilTuples = newPupilTuples\n",
    "tutorTuples = newTutorTuples"
   ]
  },
  {
   "cell_type": "code",
   "execution_count": 404,
   "metadata": {},
   "outputs": [],
   "source": [
    "total = 0\n",
    "currentTuple = 'tutor'\n",
    "while bool(pupilTuples) & bool(tutorTuples):\n",
    "    if currentTuple == 'pupil':\n",
    "        if tutorTuples[0][0] > pupilTuples[0][1]:\n",
    "            pupilTuples = pupilTuples[1:]\n",
    "            currentTuple = 'tutor'\n",
    "        elif tutorTuples[0][1] > pupilTuples[0][1]:\n",
    "            total += pupilTuples[0][1] - tutorTuples[0][0]\n",
    "            pupilTuples = pupilTuples[1:]\n",
    "            currentTuple = 'tutor'\n",
    "        else:\n",
    "            total += tutorTuples[0][1] - tutorTuples[0][0]\n",
    "            tutorTuples = tutorTuples[1:]\n",
    "            \n",
    "    else:\n",
    "        if pupilTuples[0][0] > tutorTuples[0][1]:\n",
    "            tutorTuples = tutorTuples[1:]\n",
    "            currentTuple = 'pupil'\n",
    "        elif tutorTuples[0][1] < pupilTuples[0][1]:\n",
    "            total += tutorTuples[0][1] - pupilTuples[0][0]\n",
    "            tutorTuples = tutorTuples[1:]\n",
    "            currentTuple = 'pupil'\n",
    "        else:\n",
    "            total += pupilTuples[0][1] - pupilTuples[0][0]\n",
    "            pupilTuples = pupilTuples[1:]"
   ]
  },
  {
   "cell_type": "code",
   "execution_count": 405,
   "metadata": {},
   "outputs": [
    {
     "data": {
      "text/plain": [
       "True"
      ]
     },
     "execution_count": 405,
     "metadata": {},
     "output_type": "execute_result"
    }
   ],
   "source": [
    "total == answer"
   ]
  },
  {
   "cell_type": "code",
   "execution_count": 406,
   "metadata": {},
   "outputs": [
    {
     "data": {
      "text/plain": [
       "3565"
      ]
     },
     "execution_count": 406,
     "metadata": {},
     "output_type": "execute_result"
    }
   ],
   "source": [
    "answer"
   ]
  },
  {
   "cell_type": "code",
   "execution_count": 407,
   "metadata": {},
   "outputs": [
    {
     "data": {
      "text/plain": [
       "3565"
      ]
     },
     "execution_count": 407,
     "metadata": {},
     "output_type": "execute_result"
    }
   ],
   "source": [
    "total"
   ]
  },
  {
   "cell_type": "code",
   "execution_count": 408,
   "metadata": {},
   "outputs": [
    {
     "data": {
      "text/plain": [
       "[[1594692033, 1594695600]]"
      ]
     },
     "execution_count": 408,
     "metadata": {},
     "output_type": "execute_result"
    }
   ],
   "source": [
    "sorted(pupilTuples)"
   ]
  },
  {
   "cell_type": "code",
   "execution_count": 206,
   "metadata": {},
   "outputs": [
    {
     "data": {
      "text/plain": [
       "[(1594702800, 1594704500),\n",
       " (1594702807, 1594704542),\n",
       " (1594704512, 1594704513),\n",
       " (1594704564, 1594705150),\n",
       " (1594704581, 1594704582),\n",
       " (1594704734, 1594705009),\n",
       " (1594705095, 1594705096),\n",
       " (1594705106, 1594706480),\n",
       " (1594705158, 1594705773),\n",
       " (1594705849, 1594706480),\n",
       " (1594706500, 1594706875),\n",
       " (1594706502, 1594706503),\n",
       " (1594706524, 1594706524),\n",
       " (1594706579, 1594706400)]"
      ]
     },
     "execution_count": 206,
     "metadata": {},
     "output_type": "execute_result"
    }
   ],
   "source": [
    "pupilTuples"
   ]
  },
  {
   "cell_type": "code",
   "execution_count": null,
   "metadata": {},
   "outputs": [],
   "source": []
  }
 ],
 "metadata": {
  "kernelspec": {
   "display_name": "ii_env",
   "language": "python",
   "name": "ii_env"
  },
  "language_info": {
   "codemirror_mode": {
    "name": "ipython",
    "version": 3
   },
   "file_extension": ".py",
   "mimetype": "text/x-python",
   "name": "python",
   "nbconvert_exporter": "python",
   "pygments_lexer": "ipython3",
   "version": "3.9.1"
  }
 },
 "nbformat": 4,
 "nbformat_minor": 4
}
